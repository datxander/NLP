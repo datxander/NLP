{
 "cells": [
  {
   "cell_type": "code",
   "execution_count": 1,
   "id": "16bad9e1",
   "metadata": {
    "_cell_guid": "b1076dfc-b9ad-4769-8c92-a6c4dae69d19",
    "_uuid": "8f2839f25d086af736a60e9eeb907d3b93b6e0e5",
    "execution": {
     "iopub.execute_input": "2022-08-10T10:19:54.200375Z",
     "iopub.status.busy": "2022-08-10T10:19:54.199892Z",
     "iopub.status.idle": "2022-08-10T10:19:54.220980Z",
     "shell.execute_reply": "2022-08-10T10:19:54.220036Z"
    },
    "papermill": {
     "duration": 0.033713,
     "end_time": "2022-08-10T10:19:54.225037",
     "exception": false,
     "start_time": "2022-08-10T10:19:54.191324",
     "status": "completed"
    },
    "tags": []
   },
   "outputs": [
    {
     "name": "stdout",
     "output_type": "stream",
     "text": [
      "/kaggle/input/tweets-about-the-top-companies-from-2015-to-2020/Company_Tweet.csv\n",
      "/kaggle/input/tweets-about-the-top-companies-from-2015-to-2020/Tweet.csv\n",
      "/kaggle/input/tweets-about-the-top-companies-from-2015-to-2020/Company.csv\n"
     ]
    }
   ],
   "source": [
    "# This Python 3 environment comes with many helpful analytics libraries installed\n",
    "# It is defined by the kaggle/python Docker image: https://github.com/kaggle/docker-python\n",
    "# For example, here's several helpful packages to load\n",
    "\n",
    "import numpy as np # linear algebra\n",
    "import pandas as pd # data processing, CSV file I/O (e.g. pd.read_csv)\n",
    "\n",
    "# Input data files are available in the read-only \"../input/\" directory\n",
    "# For example, running this (by clicking run or pressing Shift+Enter) will list all files under the input directory\n",
    "\n",
    "import os\n",
    "for dirname, _, filenames in os.walk('/kaggle/input'):\n",
    "    for filename in filenames:\n",
    "        print(os.path.join(dirname, filename))\n",
    "\n",
    "# You can write up to 20GB to the current directory (/kaggle/working/) that gets preserved as output when you create a version using \"Save & Run All\" \n",
    "# You can also write temporary files to /kaggle/temp/, but they won't be saved outside of the current session"
   ]
  },
  {
   "cell_type": "code",
   "execution_count": 2,
   "id": "8159b1ef",
   "metadata": {
    "execution": {
     "iopub.execute_input": "2022-08-10T10:19:54.240184Z",
     "iopub.status.busy": "2022-08-10T10:19:54.239411Z",
     "iopub.status.idle": "2022-08-10T10:20:06.349216Z",
     "shell.execute_reply": "2022-08-10T10:20:06.348297Z"
    },
    "papermill": {
     "duration": 12.119665,
     "end_time": "2022-08-10T10:20:06.351897",
     "exception": false,
     "start_time": "2022-08-10T10:19:54.232232",
     "status": "completed"
    },
    "tags": []
   },
   "outputs": [],
   "source": [
    "# Import packages\n",
    "\n",
    "import pandas as pd\n",
    "import numpy as np\n",
    "import os\n",
    "import matplotlib\n",
    "import matplotlib.pyplot as plt\n",
    "import matplotlib.patches as mpatches\n",
    "import seaborn as sns\n",
    "\n",
    "from nltk.corpus import stopwords\n",
    "from nltk.util import ngrams\n",
    "\n",
    "from wordcloud import WordCloud\n",
    "\n",
    "from sklearn.feature_extraction.text import CountVectorizer, TfidfVectorizer\n",
    "from sklearn.model_selection import train_test_split\n",
    "from sklearn.decomposition import PCA, TruncatedSVD\n",
    "from sklearn.metrics import classification_report,confusion_matrix\n",
    "\n",
    "from collections import defaultdict\n",
    "from collections import Counter\n",
    "plt.style.use('ggplot')\n",
    "stop=set(stopwords.words('english'))\n",
    "\n",
    "import re\n",
    "from nltk.tokenize import word_tokenize\n",
    "import gensim\n",
    "import string\n",
    "\n",
    "from tqdm import tqdm\n",
    "from keras.preprocessing.text import Tokenizer\n",
    "from keras.preprocessing.sequence import pad_sequences\n",
    "from keras.models import Sequential\n",
    "from keras.layers import Embedding, LSTM,Dense, SpatialDropout1D, Dropout\n",
    "from keras.initializers import Constant\n",
    "\n",
    "\n",
    "import torch\n",
    "\n",
    "import warnings\n",
    "warnings.simplefilter('ignore')"
   ]
  },
  {
   "cell_type": "code",
   "execution_count": 3,
   "id": "b9baac4f",
   "metadata": {
    "execution": {
     "iopub.execute_input": "2022-08-10T10:20:06.366466Z",
     "iopub.status.busy": "2022-08-10T10:20:06.365372Z",
     "iopub.status.idle": "2022-08-10T10:20:27.067311Z",
     "shell.execute_reply": "2022-08-10T10:20:27.066164Z"
    },
    "papermill": {
     "duration": 20.712031,
     "end_time": "2022-08-10T10:20:27.070091",
     "exception": false,
     "start_time": "2022-08-10T10:20:06.358060",
     "status": "completed"
    },
    "tags": []
   },
   "outputs": [],
   "source": [
    "ct= pd.read_csv('/kaggle/input/tweets-about-the-top-companies-from-2015-to-2020/Company_Tweet.csv')\n",
    "tweet=pd.read_csv('/kaggle/input/tweets-about-the-top-companies-from-2015-to-2020/Tweet.csv')\n",
    "company = pd.read_csv('/kaggle/input/tweets-about-the-top-companies-from-2015-to-2020/Company.csv')"
   ]
  },
  {
   "cell_type": "code",
   "execution_count": 4,
   "id": "34be9799",
   "metadata": {
    "execution": {
     "iopub.execute_input": "2022-08-10T10:20:27.084340Z",
     "iopub.status.busy": "2022-08-10T10:20:27.083903Z",
     "iopub.status.idle": "2022-08-10T10:20:27.091356Z",
     "shell.execute_reply": "2022-08-10T10:20:27.089927Z"
    },
    "papermill": {
     "duration": 0.017852,
     "end_time": "2022-08-10T10:20:27.094805",
     "exception": false,
     "start_time": "2022-08-10T10:20:27.076953",
     "status": "completed"
    },
    "tags": []
   },
   "outputs": [
    {
     "name": "stdout",
     "output_type": "stream",
     "text": [
      "There are 3717964 rows and 7 columns in tweet\n"
     ]
    }
   ],
   "source": [
    "print('There are {} rows and {} columns in tweet'.format(tweet.shape[0],tweet.shape[1]))"
   ]
  },
  {
   "cell_type": "code",
   "execution_count": 5,
   "id": "1773a4a7",
   "metadata": {
    "execution": {
     "iopub.execute_input": "2022-08-10T10:20:27.109859Z",
     "iopub.status.busy": "2022-08-10T10:20:27.109257Z",
     "iopub.status.idle": "2022-08-10T10:20:27.136349Z",
     "shell.execute_reply": "2022-08-10T10:20:27.135153Z"
    },
    "papermill": {
     "duration": 0.037504,
     "end_time": "2022-08-10T10:20:27.138988",
     "exception": false,
     "start_time": "2022-08-10T10:20:27.101484",
     "status": "completed"
    },
    "tags": []
   },
   "outputs": [
    {
     "data": {
      "text/html": [
       "<div>\n",
       "<style scoped>\n",
       "    .dataframe tbody tr th:only-of-type {\n",
       "        vertical-align: middle;\n",
       "    }\n",
       "\n",
       "    .dataframe tbody tr th {\n",
       "        vertical-align: top;\n",
       "    }\n",
       "\n",
       "    .dataframe thead th {\n",
       "        text-align: right;\n",
       "    }\n",
       "</style>\n",
       "<table border=\"1\" class=\"dataframe\">\n",
       "  <thead>\n",
       "    <tr style=\"text-align: right;\">\n",
       "      <th></th>\n",
       "      <th>tweet_id</th>\n",
       "      <th>writer</th>\n",
       "      <th>post_date</th>\n",
       "      <th>body</th>\n",
       "      <th>comment_num</th>\n",
       "      <th>retweet_num</th>\n",
       "      <th>like_num</th>\n",
       "    </tr>\n",
       "  </thead>\n",
       "  <tbody>\n",
       "    <tr>\n",
       "      <th>0</th>\n",
       "      <td>550441509175443456</td>\n",
       "      <td>VisualStockRSRC</td>\n",
       "      <td>1420070457</td>\n",
       "      <td>lx21 made $10,008  on $AAPL -Check it out! htt...</td>\n",
       "      <td>0</td>\n",
       "      <td>0</td>\n",
       "      <td>1</td>\n",
       "    </tr>\n",
       "    <tr>\n",
       "      <th>1</th>\n",
       "      <td>550441672312512512</td>\n",
       "      <td>KeralaGuy77</td>\n",
       "      <td>1420070496</td>\n",
       "      <td>Insanity of today weirdo massive selling. $aap...</td>\n",
       "      <td>0</td>\n",
       "      <td>0</td>\n",
       "      <td>0</td>\n",
       "    </tr>\n",
       "    <tr>\n",
       "      <th>2</th>\n",
       "      <td>550441732014223360</td>\n",
       "      <td>DozenStocks</td>\n",
       "      <td>1420070510</td>\n",
       "      <td>S&amp;P100 #Stocks Performance $HD $LOW $SBUX $TGT...</td>\n",
       "      <td>0</td>\n",
       "      <td>0</td>\n",
       "      <td>0</td>\n",
       "    </tr>\n",
       "    <tr>\n",
       "      <th>3</th>\n",
       "      <td>550442977802207232</td>\n",
       "      <td>ShowDreamCar</td>\n",
       "      <td>1420070807</td>\n",
       "      <td>$GM $TSLA: Volkswagen Pushes 2014 Record Recal...</td>\n",
       "      <td>0</td>\n",
       "      <td>0</td>\n",
       "      <td>1</td>\n",
       "    </tr>\n",
       "    <tr>\n",
       "      <th>4</th>\n",
       "      <td>550443807834402816</td>\n",
       "      <td>i_Know_First</td>\n",
       "      <td>1420071005</td>\n",
       "      <td>Swing Trading: Up To 8.91% Return In 14 Days h...</td>\n",
       "      <td>0</td>\n",
       "      <td>0</td>\n",
       "      <td>1</td>\n",
       "    </tr>\n",
       "  </tbody>\n",
       "</table>\n",
       "</div>"
      ],
      "text/plain": [
       "             tweet_id           writer   post_date  \\\n",
       "0  550441509175443456  VisualStockRSRC  1420070457   \n",
       "1  550441672312512512      KeralaGuy77  1420070496   \n",
       "2  550441732014223360      DozenStocks  1420070510   \n",
       "3  550442977802207232     ShowDreamCar  1420070807   \n",
       "4  550443807834402816     i_Know_First  1420071005   \n",
       "\n",
       "                                                body  comment_num  \\\n",
       "0  lx21 made $10,008  on $AAPL -Check it out! htt...            0   \n",
       "1  Insanity of today weirdo massive selling. $aap...            0   \n",
       "2  S&P100 #Stocks Performance $HD $LOW $SBUX $TGT...            0   \n",
       "3  $GM $TSLA: Volkswagen Pushes 2014 Record Recal...            0   \n",
       "4  Swing Trading: Up To 8.91% Return In 14 Days h...            0   \n",
       "\n",
       "   retweet_num  like_num  \n",
       "0            0         1  \n",
       "1            0         0  \n",
       "2            0         0  \n",
       "3            0         1  \n",
       "4            0         1  "
      ]
     },
     "execution_count": 5,
     "metadata": {},
     "output_type": "execute_result"
    }
   ],
   "source": [
    "tweet.head()"
   ]
  },
  {
   "cell_type": "code",
   "execution_count": 6,
   "id": "03d66130",
   "metadata": {
    "execution": {
     "iopub.execute_input": "2022-08-10T10:20:27.152972Z",
     "iopub.status.busy": "2022-08-10T10:20:27.152397Z",
     "iopub.status.idle": "2022-08-10T10:20:29.234859Z",
     "shell.execute_reply": "2022-08-10T10:20:29.233508Z"
    },
    "papermill": {
     "duration": 2.092531,
     "end_time": "2022-08-10T10:20:29.237768",
     "exception": false,
     "start_time": "2022-08-10T10:20:27.145237",
     "status": "completed"
    },
    "tags": []
   },
   "outputs": [],
   "source": [
    "# EDA\n",
    "\n",
    "def length(text):    \n",
    "    '''a function which returns the length of text'''\n",
    "    return len(text)\n",
    "\n",
    "tweet['length'] = tweet['body'].apply(length)"
   ]
  },
  {
   "cell_type": "code",
   "execution_count": 7,
   "id": "37cad120",
   "metadata": {
    "execution": {
     "iopub.execute_input": "2022-08-10T10:20:29.251535Z",
     "iopub.status.busy": "2022-08-10T10:20:29.251127Z",
     "iopub.status.idle": "2022-08-10T10:20:31.408140Z",
     "shell.execute_reply": "2022-08-10T10:20:31.406684Z"
    },
    "papermill": {
     "duration": 2.166963,
     "end_time": "2022-08-10T10:20:31.410626",
     "exception": false,
     "start_time": "2022-08-10T10:20:29.243663",
     "status": "completed"
    },
    "tags": []
   },
   "outputs": [
    {
     "data": {
      "image/png": "[encoded data removed]",
      "text/plain": [
       "<Figure size 1296x432 with 1 Axes>"
      ]
     },
     "metadata": {},
     "output_type": "display_data"
    }
   ],
   "source": [
    "plt.rcParams['figure.figsize'] = (18.0, 6.0)\n",
    "bins = 300\n",
    "plt.hist(tweet[tweet['like_num'] == 0]['length'], alpha = 0.6, bins=bins, label='No likes')\n",
    "plt.hist(tweet[tweet['like_num'] > 0]['length'], alpha = 0.8, bins=bins, label='Some likes')\n",
    "plt.xlabel('length')\n",
    "plt.ylabel('numbers')\n",
    "plt.legend(loc='upper right')\n",
    "plt.xlim(0,300)\n",
    "plt.grid()\n",
    "plt.show()"
   ]
  },
  {
   "cell_type": "code",
   "execution_count": 8,
   "id": "cd33b965",
   "metadata": {
    "execution": {
     "iopub.execute_input": "2022-08-10T10:20:31.426567Z",
     "iopub.status.busy": "2022-08-10T10:20:31.425574Z",
     "iopub.status.idle": "2022-08-10T10:20:34.764148Z",
     "shell.execute_reply": "2022-08-10T10:20:34.762883Z"
    },
    "papermill": {
     "duration": 3.349582,
     "end_time": "2022-08-10T10:20:34.766756",
     "exception": false,
     "start_time": "2022-08-10T10:20:31.417174",
     "status": "completed"
    },
    "tags": []
   },
   "outputs": [
    {
     "data": {
      "image/png": "[encoded data removed]",
      "text/plain": [
       "<Figure size 720x360 with 2 Axes>"
      ]
     },
     "metadata": {},
     "output_type": "display_data"
    }
   ],
   "source": [
    "fig,(ax1,ax2)=plt.subplots(1,2,figsize=(10,5))\n",
    "tweet_len=tweet[tweet['like_num']==0]['body'].str.len()\n",
    "ax1.hist(tweet_len,color='blue')\n",
    "ax1.set_title('No likes')\n",
    "tweet_len=tweet[tweet['like_num']>0]['body'].str.len()\n",
    "ax2.hist(tweet_len,color='red')\n",
    "ax2.set_title('Some likes')\n",
    "fig.suptitle('Characters in tweets')\n",
    "plt.show()"
   ]
  },
  {
   "cell_type": "code",
   "execution_count": 9,
   "id": "45e4b8f1",
   "metadata": {
    "execution": {
     "iopub.execute_input": "2022-08-10T10:20:34.782701Z",
     "iopub.status.busy": "2022-08-10T10:20:34.782141Z",
     "iopub.status.idle": "2022-08-10T10:20:58.278402Z",
     "shell.execute_reply": "2022-08-10T10:20:58.276671Z"
    },
    "papermill": {
     "duration": 23.507686,
     "end_time": "2022-08-10T10:20:58.281233",
     "exception": false,
     "start_time": "2022-08-10T10:20:34.773547",
     "status": "completed"
    },
    "tags": []
   },
   "outputs": [
    {
     "data": {
      "image/png": "[encoded data removed]",
      "text/plain": [
       "<Figure size 720x360 with 2 Axes>"
      ]
     },
     "metadata": {},
     "output_type": "display_data"
    }
   ],
   "source": [
    "fig,(ax1,ax2)=plt.subplots(1,2,figsize=(10,5))\n",
    "tweet_len=tweet[tweet['like_num'] == 0]['body'].str.split().map(lambda x: len(x))\n",
    "ax1.hist(tweet_len,color='blue')\n",
    "ax1.set_title('No likes')\n",
    "tweet_len=tweet[tweet['like_num'] > 0]['body'].str.split().map(lambda x: len(x))\n",
    "ax2.hist(tweet_len,color='red')\n",
    "ax2.set_title('Some likes')\n",
    "fig.suptitle('Words in a tweet')\n",
    "plt.show()"
   ]
  },
  {
   "cell_type": "code",
   "execution_count": 10,
   "id": "79ce8b84",
   "metadata": {
    "execution": {
     "iopub.execute_input": "2022-08-10T10:20:58.297528Z",
     "iopub.status.busy": "2022-08-10T10:20:58.297097Z",
     "iopub.status.idle": "2022-08-10T10:22:35.729416Z",
     "shell.execute_reply": "2022-08-10T10:22:35.727837Z"
    },
    "papermill": {
     "duration": 97.444151,
     "end_time": "2022-08-10T10:22:35.732506",
     "exception": false,
     "start_time": "2022-08-10T10:20:58.288355",
     "status": "completed"
    },
    "tags": []
   },
   "outputs": [
    {
     "data": {
      "text/plain": [
       "Text(0.5, 0.98, 'Average word length in each tweet')"
      ]
     },
     "execution_count": 10,
     "metadata": {},
     "output_type": "execute_result"
    },
    {
     "data": {
      "image/png": "[encoded data removed]",
      "text/plain": [
       "<Figure size 720x360 with 2 Axes>"
      ]
     },
     "metadata": {},
     "output_type": "display_data"
    }
   ],
   "source": [
    "fig,(ax1,ax2)=plt.subplots(1,2,figsize=(10,5))\n",
    "word=tweet[tweet['like_num']==0]['body'].str.split().apply(lambda x : [len(i) for i in x])\n",
    "sns.distplot(word.map(lambda x: np.mean(x)),ax=ax1,color='blue')\n",
    "ax1.set_title('No likes')\n",
    "word=tweet[tweet['like_num'] > 0]['body'].str.split().apply(lambda x : [len(i) for i in x])\n",
    "sns.distplot(word.map(lambda x: np.mean(x)),ax=ax2,color='red')\n",
    "ax2.set_title('Some likes')\n",
    "fig.suptitle('Average word length in each tweet')"
   ]
  },
  {
   "cell_type": "code",
   "execution_count": 11,
   "id": "2bf43cfa",
   "metadata": {
    "execution": {
     "iopub.execute_input": "2022-08-10T10:22:35.751884Z",
     "iopub.status.busy": "2022-08-10T10:22:35.750412Z",
     "iopub.status.idle": "2022-08-10T10:23:05.944532Z",
     "shell.execute_reply": "2022-08-10T10:23:05.943325Z"
    },
    "papermill": {
     "duration": 30.207254,
     "end_time": "2022-08-10T10:23:05.947653",
     "exception": false,
     "start_time": "2022-08-10T10:22:35.740399",
     "status": "completed"
    },
    "tags": []
   },
   "outputs": [],
   "source": [
    "corpus = []\n",
    "\n",
    "for x in tweet['body'].str.split():\n",
    "    for i in x:\n",
    "        corpus.append(i)\n",
    "    "
   ]
  },
  {
   "cell_type": "code",
   "execution_count": 12,
   "id": "56514537",
   "metadata": {
    "execution": {
     "iopub.execute_input": "2022-08-10T10:23:05.968465Z",
     "iopub.status.busy": "2022-08-10T10:23:05.968050Z",
     "iopub.status.idle": "2022-08-10T10:23:17.941681Z",
     "shell.execute_reply": "2022-08-10T10:23:17.939941Z"
    },
    "papermill": {
     "duration": 11.985781,
     "end_time": "2022-08-10T10:23:17.944808",
     "exception": false,
     "start_time": "2022-08-10T10:23:05.959027",
     "status": "completed"
    },
    "tags": []
   },
   "outputs": [],
   "source": [
    "dic=defaultdict(int)\n",
    "for word in corpus:\n",
    "    if word in stop:\n",
    "        dic[word]+=1"
   ]
  },
  {
   "cell_type": "code",
   "execution_count": 13,
   "id": "2fa789c8",
   "metadata": {
    "execution": {
     "iopub.execute_input": "2022-08-10T10:23:17.963214Z",
     "iopub.status.busy": "2022-08-10T10:23:17.962799Z",
     "iopub.status.idle": "2022-08-10T10:23:17.971069Z",
     "shell.execute_reply": "2022-08-10T10:23:17.969740Z"
    },
    "papermill": {
     "duration": 0.020552,
     "end_time": "2022-08-10T10:23:17.973504",
     "exception": false,
     "start_time": "2022-08-10T10:23:17.952952",
     "status": "completed"
    },
    "tags": []
   },
   "outputs": [
    {
     "data": {
      "text/plain": [
       "array({\"couldn't\", 'hadn', \"she's\", \"should've\", \"it's\", \"weren't\", 'there', 'you', 'through', 'y', 'with', 'such', 'how', 'more', 'until', 'has', 'they', 'to', 'too', 'is', 'mightn', 'ourselves', 'so', \"that'll\", 'myself', 'into', \"shan't\", 'some', 'up', 'be', 'against', 'wasn', 'shan', 'this', 'at', 'then', 'his', 'she', 'our', 'who', 'ours', 'herself', 'same', 'during', 'here', 're', \"you've\", 'than', 'now', 'a', 'own', 'off', 'him', 'that', 'further', 'ain', 'your', 'whom', 'mustn', 'o', 'had', 'them', 'each', \"wouldn't\", \"hadn't\", 'these', 'down', 'ma', 'it', 'will', 'their', \"you'd\", 'yourself', \"hasn't\", 'after', 'very', 'and', 've', 'other', 'do', 'from', 'itself', 'all', 'what', \"you're\", 'just', 'my', \"aren't\", 'those', 'below', \"needn't\", 'of', 'themselves', 'if', 'm', \"isn't\", \"shouldn't\", 'we', 'her', 'didn', 'hers', 'me', 'why', 'while', 'once', 'most', 'being', 'the', 'd', 'on', 'doing', 'does', 'but', 'both', 't', 'for', 'i', 'above', 'theirs', 'when', 'having', 'not', 'by', 'won', \"mustn't\", 'weren', 'no', 'only', 'or', 'can', 'll', 'should', 'couldn', 'have', 'which', \"won't\", 'needn', 'nor', 'himself', 'am', 'about', 'haven', 'aren', 'between', 'been', 'did', 'again', 'in', \"you'll\", \"mightn't\", 'are', \"don't\", 'yourselves', 'yours', 'before', 'an', \"haven't\", 'he', 'were', 's', 'wouldn', 'as', \"doesn't\", 'doesn', \"wasn't\", 'hasn', 'any', 'don', 'few', 'shouldn', 'was', 'because', 'isn', 'under', 'over', 'its', 'out', \"didn't\", 'where'},\n",
       "      dtype=object)"
      ]
     },
     "execution_count": 13,
     "metadata": {},
     "output_type": "execute_result"
    }
   ],
   "source": [
    "# displaying the stopwords\n",
    "np.array(stop)"
   ]
  },
  {
   "cell_type": "code",
   "execution_count": 14,
   "id": "c387b372",
   "metadata": {
    "execution": {
     "iopub.execute_input": "2022-08-10T10:23:17.992612Z",
     "iopub.status.busy": "2022-08-10T10:23:17.992206Z",
     "iopub.status.idle": "2022-08-10T10:23:18.252089Z",
     "shell.execute_reply": "2022-08-10T10:23:18.250798Z"
    },
    "papermill": {
     "duration": 0.271875,
     "end_time": "2022-08-10T10:23:18.254635",
     "exception": false,
     "start_time": "2022-08-10T10:23:17.982760",
     "status": "completed"
    },
    "tags": []
   },
   "outputs": [
    {
     "data": {
      "text/plain": [
       "<BarContainer object of 10 artists>"
      ]
     },
     "execution_count": 14,
     "metadata": {},
     "output_type": "execute_result"
    },
    {
     "data": {
      "image/png": "[encoded data removed]",
      "text/plain": [
       "<Figure size 1296x432 with 1 Axes>"
      ]
     },
     "metadata": {},
     "output_type": "display_data"
    }
   ],
   "source": [
    "top=sorted(dic.items(), key=lambda x:x[1],reverse=True)[:10]\n",
    "\n",
    "plt.rcParams['figure.figsize'] = (18.0, 6.0)\n",
    "x,y=zip(*top)\n",
    "plt.bar(x,y)"
   ]
  },
  {
   "cell_type": "code",
   "execution_count": 15,
   "id": "cc5d10ca",
   "metadata": {
    "execution": {
     "iopub.execute_input": "2022-08-10T10:23:18.276823Z",
     "iopub.status.busy": "2022-08-10T10:23:18.275841Z",
     "iopub.status.idle": "2022-08-10T10:23:27.094255Z",
     "shell.execute_reply": "2022-08-10T10:23:27.092808Z"
    },
    "papermill": {
     "duration": 8.833382,
     "end_time": "2022-08-10T10:23:27.096773",
     "exception": false,
     "start_time": "2022-08-10T10:23:18.263391",
     "status": "completed"
    },
    "tags": []
   },
   "outputs": [
    {
     "data": {
      "text/plain": [
       "<BarContainer object of 52 artists>"
      ]
     },
     "execution_count": 15,
     "metadata": {},
     "output_type": "execute_result"
    },
    {
     "data": {
      "image/png": "[encoded data removed]",
      "text/plain": [
       "<Figure size 1296x432 with 1 Axes>"
      ]
     },
     "metadata": {},
     "output_type": "display_data"
    }
   ],
   "source": [
    "# Analyzing punctuation\n",
    "\n",
    "dic=defaultdict(int)\n",
    "special = string.punctuation\n",
    "for i in (corpus):\n",
    "    if i in special:\n",
    "        dic[i]+=1\n",
    "        \n",
    "x,y=zip(*dic.items())\n",
    "plt.bar(x,y)"
   ]
  },
  {
   "cell_type": "code",
   "execution_count": 16,
   "id": "34969a0e",
   "metadata": {
    "execution": {
     "iopub.execute_input": "2022-08-10T10:23:27.116500Z",
     "iopub.status.busy": "2022-08-10T10:23:27.116069Z",
     "iopub.status.idle": "2022-08-10T10:23:45.493081Z",
     "shell.execute_reply": "2022-08-10T10:23:45.491884Z"
    },
    "papermill": {
     "duration": 18.389646,
     "end_time": "2022-08-10T10:23:45.495671",
     "exception": false,
     "start_time": "2022-08-10T10:23:27.106025",
     "status": "completed"
    },
    "tags": []
   },
   "outputs": [
    {
     "data": {
      "text/plain": [
       "<Figure size 1152x360 with 0 Axes>"
      ]
     },
     "metadata": {},
     "output_type": "display_data"
    }
   ],
   "source": [
    "# Most common words\n",
    "\n",
    "plt.figure(figsize=(16,5))\n",
    "counter=Counter(corpus)\n",
    "most=counter.most_common()\n",
    "x=[]\n",
    "y=[]\n",
    "for word,count in most[:40]:\n",
    "    if (word not in stop) :\n",
    "        x.append(word)\n",
    "        y.append(count)\n",
    "        "
   ]
  },
  {
   "cell_type": "code",
   "execution_count": 17,
   "id": "21fe8695",
   "metadata": {
    "execution": {
     "iopub.execute_input": "2022-08-10T10:23:45.515495Z",
     "iopub.status.busy": "2022-08-10T10:23:45.515069Z",
     "iopub.status.idle": "2022-08-10T10:23:45.856794Z",
     "shell.execute_reply": "2022-08-10T10:23:45.855184Z"
    },
    "papermill": {
     "duration": 0.356398,
     "end_time": "2022-08-10T10:23:45.860763",
     "exception": false,
     "start_time": "2022-08-10T10:23:45.504365",
     "status": "completed"
    },
    "tags": []
   },
   "outputs": [
    {
     "data": {
      "text/plain": [
       "<AxesSubplot:>"
      ]
     },
     "execution_count": 17,
     "metadata": {},
     "output_type": "execute_result"
    },
    {
     "data": {
      "image/png": "[encoded data removed]",
      "text/plain": [
       "<Figure size 1296x432 with 1 Axes>"
      ]
     },
     "metadata": {},
     "output_type": "display_data"
    }
   ],
   "source": [
    "sns.barplot(x=y,y=x)"
   ]
  },
  {
   "cell_type": "code",
   "execution_count": 18,
   "id": "804827bd",
   "metadata": {
    "execution": {
     "iopub.execute_input": "2022-08-10T10:23:45.886297Z",
     "iopub.status.busy": "2022-08-10T10:23:45.885485Z",
     "iopub.status.idle": "2022-08-10T10:23:45.900027Z",
     "shell.execute_reply": "2022-08-10T10:23:45.898117Z"
    },
    "papermill": {
     "duration": 0.030716,
     "end_time": "2022-08-10T10:23:45.903768",
     "exception": false,
     "start_time": "2022-08-10T10:23:45.873052",
     "status": "completed"
    },
    "tags": []
   },
   "outputs": [],
   "source": [
    "#Ngram analysis\n",
    "\n",
    "def get_top_tweet_bigrams(corpus, n=None):\n",
    "    vec = CountVectorizer(ngram_range=(2, 2)).fit(corpus)\n",
    "    bag_of_words = vec.transform(corpus)\n",
    "    sum_words = bag_of_words.sum(axis=0) \n",
    "    words_freq = [(word, sum_words[0, idx]) for word, idx in vec.vocabulary_.items()]\n",
    "    words_freq =sorted(words_freq, key = lambda x: x[1], reverse=True)\n",
    "    return words_freq[:n]"
   ]
  },
  {
   "cell_type": "code",
   "execution_count": 19,
   "id": "4edf8549",
   "metadata": {
    "execution": {
     "iopub.execute_input": "2022-08-10T10:23:45.926807Z",
     "iopub.status.busy": "2022-08-10T10:23:45.925963Z",
     "iopub.status.idle": "2022-08-10T10:30:03.106498Z",
     "shell.execute_reply": "2022-08-10T10:30:03.105350Z"
    },
    "papermill": {
     "duration": 377.193888,
     "end_time": "2022-08-10T10:30:03.109011",
     "exception": false,
     "start_time": "2022-08-10T10:23:45.915123",
     "status": "completed"
    },
    "tags": []
   },
   "outputs": [
    {
     "data": {
      "text/plain": [
       "<AxesSubplot:>"
      ]
     },
     "execution_count": 19,
     "metadata": {},
     "output_type": "execute_result"
    },
    {
     "data": {
      "image/png": "[encoded data removed]",
      "text/plain": [
       "<Figure size 1152x360 with 1 Axes>"
      ]
     },
     "metadata": {},
     "output_type": "display_data"
    }
   ],
   "source": [
    "plt.figure(figsize=(16,5))\n",
    "top_tweet_bigrams=get_top_tweet_bigrams(tweet['body'])[:15]\n",
    "x,y=map(list,zip(*top_tweet_bigrams))\n",
    "sns.barplot(x=y,y=x)"
   ]
  },
  {
   "cell_type": "code",
   "execution_count": null,
   "id": "7cc50a6f",
   "metadata": {
    "papermill": {
     "duration": 0.009096,
     "end_time": "2022-08-10T10:30:03.127500",
     "exception": false,
     "start_time": "2022-08-10T10:30:03.118404",
     "status": "completed"
    },
    "tags": []
   },
   "outputs": [],
   "source": []
  }
 ],
 "metadata": {
  "kernelspec": {
   "display_name": "Python 3",
   "language": "python",
   "name": "python3"
  },
  "language_info": {
   "codemirror_mode": {
    "name": "ipython",
    "version": 3
   },
   "file_extension": ".py",
   "mimetype": "text/x-python",
   "name": "python",
   "nbconvert_exporter": "python",
   "pygments_lexer": "ipython3",
   "version": "3.7.12"
  },
  "papermill": {
   "default_parameters": {},
   "duration": 622.620831,
   "end_time": "2022-08-10T10:30:06.162588",
   "environment_variables": {},
   "exception": null,
   "input_path": "__notebook__.ipynb",
   "output_path": "__notebook__.ipynb",
   "parameters": {},
   "start_time": "2022-08-10T10:19:43.541757",
   "version": "2.3.4"
  }
 },
 "nbformat": 4,
 "nbformat_minor": 5
}
